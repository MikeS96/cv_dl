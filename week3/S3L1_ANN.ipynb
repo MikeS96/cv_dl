{
 "cells": [
  {
   "cell_type": "markdown",
   "metadata": {},
   "source": [
    "[![Open In Colab](https://colab.research.google.com/assets/colab-badge.svg)](https://colab.research.google.com/github/MikeS96/cv_dl/blob/main/week3/S3L1_ANN.ipynb)"
   ]
  },
  {
   "cell_type": "code",
   "execution_count": null,
   "metadata": {
    "colab": {
     "base_uri": "https://localhost:8080/"
    },
    "id": "LOo470X0zBVY",
    "outputId": "94d42c03-ecd7-4ae6-da84-206f44efcf87"
   },
   "outputs": [
    {
     "name": "stdout",
     "output_type": "stream",
     "text": [
      "--2021-02-27 12:01:26--  https://storage.googleapis.com/mledu-datasets/cats_and_dogs_filtered.zip\n",
      "Resolving storage.googleapis.com (storage.googleapis.com)... 74.125.137.128, 142.250.101.128, 2607:f8b0:4023:c03::80, ...\n",
      "Connecting to storage.googleapis.com (storage.googleapis.com)|74.125.137.128|:443... connected.\n",
      "HTTP request sent, awaiting response... 200 OK\n",
      "Length: 68606236 (65M) [application/zip]\n",
      "Saving to: ‘/content/cats_and_dogs_filtered.zip’\n",
      "\n",
      "/content/cats_and_d 100%[===================>]  65.43M   108MB/s    in 0.6s    \n",
      "\n",
      "2021-02-27 12:01:27 (108 MB/s) - ‘/content/cats_and_dogs_filtered.zip’ saved [68606236/68606236]\n",
      "\n"
     ]
    }
   ],
   "source": [
    "!wget --no-check-certificate https://storage.googleapis.com/mledu-datasets/cats_and_dogs_filtered.zip -O /content/cats_and_dogs_filtered.zip"
   ]
  },
  {
   "cell_type": "code",
   "execution_count": null,
   "metadata": {
    "colab": {
     "base_uri": "https://localhost:8080/"
    },
    "id": "ZknHcwzz6NCz",
    "outputId": "b7fef233-d12e-4545-f071-51b6c679645b"
   },
   "outputs": [
    {
     "name": "stdout",
     "output_type": "stream",
     "text": [
      "Collecting rich\n",
      "\u001b[?25l  Downloading https://files.pythonhosted.org/packages/86/1f/621ba88636c1f09a85090972441e050ff1311cbd79dc4750d7fa2883d801/rich-9.12.0-py3-none-any.whl (196kB)\n",
      "\u001b[K     |████████████████████████████████| 204kB 7.6MB/s \n",
      "\u001b[?25hRequirement already satisfied: pygments<3.0.0,>=2.6.0 in /usr/local/lib/python3.7/dist-packages (from rich) (2.6.1)\n",
      "Requirement already satisfied: typing-extensions<4.0.0,>=3.7.4 in /usr/local/lib/python3.7/dist-packages (from rich) (3.7.4.3)\n",
      "Collecting commonmark<0.10.0,>=0.9.0\n",
      "\u001b[?25l  Downloading https://files.pythonhosted.org/packages/b1/92/dfd892312d822f36c55366118b95d914e5f16de11044a27cf10a7d71bbbf/commonmark-0.9.1-py2.py3-none-any.whl (51kB)\n",
      "\u001b[K     |████████████████████████████████| 51kB 5.4MB/s \n",
      "\u001b[?25hCollecting colorama<0.5.0,>=0.4.0\n",
      "  Downloading https://files.pythonhosted.org/packages/44/98/5b86278fbbf250d239ae0ecb724f8572af1c91f4a11edf4d36a206189440/colorama-0.4.4-py2.py3-none-any.whl\n",
      "Installing collected packages: commonmark, colorama, rich\n",
      "Successfully installed colorama-0.4.4 commonmark-0.9.1 rich-9.12.0\n"
     ]
    }
   ],
   "source": [
    "!pip install rich"
   ]
  },
  {
   "cell_type": "markdown",
   "metadata": {
    "id": "bkwCwWpe30RE"
   },
   "source": [
    "### Descomprimir el ZIP y llevarlo a una carpeta"
   ]
  },
  {
   "cell_type": "code",
   "execution_count": null,
   "metadata": {
    "id": "ix4MOz4lsVFi"
   },
   "outputs": [],
   "source": [
    "import os\n",
    "import zipfile\n",
    "\n",
    "comprimido = zipfile.ZipFile('cats_and_dogs_filtered.zip', 'r')\n",
    "comprimido.extractall()\n",
    "comprimido.close()"
   ]
  },
  {
   "cell_type": "markdown",
   "metadata": {
    "id": "AgpvkZnt42fq"
   },
   "source": [
    "### Exploring folders"
   ]
  },
  {
   "cell_type": "code",
   "execution_count": null,
   "metadata": {
    "colab": {
     "base_uri": "https://localhost:8080/"
    },
    "id": "I_AsrVON439C",
    "outputId": "795dbbea-af0d-4c10-faf3-c1d24418a933"
   },
   "outputs": [
    {
     "name": "stdout",
     "output_type": "stream",
     "text": [
      "Listing training cat files: \n",
      "['cat.209.jpg', 'cat.189.jpg', 'cat.894.jpg', 'cat.831.jpg', 'cat.796.jpg', \n",
      "'cat.457.jpg', 'cat.824.jpg', 'cat.307.jpg', 'cat.167.jpg', 'cat.36.jpg'] \n",
      "\n",
      "\n",
      "Listing training dog files: \n",
      "['dog.728.jpg', 'dog.699.jpg', 'dog.715.jpg', 'dog.262.jpg', 'dog.998.jpg', \n",
      "'dog.814.jpg', 'dog.336.jpg', 'dog.36.jpg', 'dog.986.jpg', 'dog.211.jpg'] \n",
      "\n",
      "\n",
      "The number of cat images for training are: \n",
      "1000 \n",
      "\n",
      "\n",
      "The number of dog images for training are: \n",
      "1000\n"
     ]
    }
   ],
   "source": [
    "from rich import print\n",
    "\n",
    "# Obs folders\n",
    "dir_base = 'cats_and_dogs_filtered'\n",
    "# Paths\n",
    "dir_tra_cat = os.path.join(dir_base, 'train/cats')\n",
    "dir_tra_dog = os.path.join(dir_base, 'train/dogs')\n",
    "dir_val_cat = os.path.join(dir_base, 'validation/cats')\n",
    "dir_val_dog = os.path.join(dir_base, 'validation/dogs')\n",
    "# Printing\n",
    "print('Listing training cat files: \\n{} \\n\\n'.format(os.listdir(dir_tra_cat)[:10]))\n",
    "print('Listing training dog files: \\n{} \\n\\n'.format(os.listdir(dir_tra_dog)[:10]))\n",
    "print('The number of cat images for training are: \\n{} \\n\\n'.format(len(os.listdir(dir_tra_cat))))\n",
    "print('The number of dog images for training are: \\n{}'.format(len(os.listdir(dir_tra_dog))))"
   ]
  },
  {
   "cell_type": "code",
   "execution_count": null,
   "metadata": {
    "id": "WXE41qeY7rwd"
   },
   "outputs": [],
   "source": [
    "from skimage.feature import hog, local_binary_pattern\n",
    "from skimage.io import imread\n",
    "from skimage.transform  import resize\n",
    "from skimage.color import rgb2gray\n",
    "\n",
    "from matplotlib import pyplot as plt\n",
    "import numpy as np"
   ]
  },
  {
   "cell_type": "markdown",
   "metadata": {
    "id": "6WzEi5SC8awb"
   },
   "source": [
    "### Preprocessing"
   ]
  },
  {
   "cell_type": "code",
   "execution_count": null,
   "metadata": {
    "id": "dS5JNDOE758h"
   },
   "outputs": [],
   "source": [
    "# Process each image\n",
    "def preprocesado(file):\n",
    "  img = imread(file)\n",
    "  img_g = rgb2gray(img)\n",
    "  img_r = resize(img_g, (128, 64))\n",
    "  fd, hog_img = hog(img_r, orientations = 9, pixels_per_cell = (16,16),\n",
    "                   cells_per_block = (4,4), visualize = True )\n",
    "  return fd"
   ]
  },
  {
   "cell_type": "code",
   "execution_count": null,
   "metadata": {
    "colab": {
     "base_uri": "https://localhost:8080/"
    },
    "id": "ia_9jpUk9fU9",
    "outputId": "88c8f98e-a008-43b5-ee09-35b8f023a904"
   },
   "outputs": [
    {
     "name": "stdout",
     "output_type": "stream",
     "text": [
      "The number of features are: 720\n"
     ]
    }
   ],
   "source": [
    "# Testing the last method\n",
    "nfile = dir_tra_cat + '/cat.153.jpg'\n",
    "fd = preprocesado(nfile)\n",
    "print('The number of features are: {}'.format(fd.size))"
   ]
  },
  {
   "cell_type": "markdown",
   "metadata": {
    "id": "xPTmMRvwCdCV"
   },
   "source": [
    "### Processing training examples"
   ]
  },
  {
   "cell_type": "code",
   "execution_count": null,
   "metadata": {
    "id": "b_MSjE6wDNBn"
   },
   "outputs": [],
   "source": [
    "def process_all(path, class_label):\n",
    "  hog_features = []\n",
    "  label = []\n",
    "  labels = {'cat': 1, 'dog': 0}\n",
    "  # For each file in the folder...\n",
    "  for file in os.listdir(path):\n",
    "    nfile = path + '/' + file\n",
    "    his = preprocesado(nfile)\n",
    "    hog_features.append(his)\n",
    "    # Cats will be tagged with -> 1\n",
    "    label.append(labels[class_label])\n",
    "  return hog_features, label"
   ]
  },
  {
   "cell_type": "code",
   "execution_count": null,
   "metadata": {
    "id": "GKEMizHi9vpy"
   },
   "outputs": [],
   "source": [
    "# Processing cats\n",
    "hog_features_cat, label_cat = process_all(dir_tra_cat, 'cat')\n",
    "hog_features_dog, label_dog = process_all(dir_tra_dog, 'dog')"
   ]
  },
  {
   "cell_type": "code",
   "execution_count": null,
   "metadata": {
    "id": "HWtaomq-FFhn"
   },
   "outputs": [],
   "source": [
    "# Concatenating features\n",
    "hog_features = hog_features_cat + hog_features_dog\n",
    "labels = label_cat + label_dog"
   ]
  },
  {
   "cell_type": "code",
   "execution_count": null,
   "metadata": {
    "colab": {
     "base_uri": "https://localhost:8080/"
    },
    "id": "Wv6pPnUID2Z1",
    "outputId": "e9929055-5047-4a25-88ad-4bf28fc99948"
   },
   "outputs": [
    {
     "name": "stdout",
     "output_type": "stream",
     "text": [
      "The size of the features are: (2000, 720)\n",
      "The size of the targets are: (2000,)\n"
     ]
    }
   ],
   "source": [
    "# Parsing to numpy array\n",
    "hog_features = np.array(hog_features)\n",
    "labels = np.array(labels)\n",
    "print('The size of the features are: {}'.format(hog_features.shape))\n",
    "print('The size of the targets are: {}'.format(labels.shape))"
   ]
  },
  {
   "cell_type": "code",
   "execution_count": null,
   "metadata": {
    "colab": {
     "base_uri": "https://localhost:8080/"
    },
    "id": "_UuzFMrVFqqw",
    "outputId": "ddf98d3f-3334-49a8-a85a-f944f93abd8a"
   },
   "outputs": [
    {
     "name": "stdout",
     "output_type": "stream",
     "text": [
      "The final shape of the dataset is: (2000, 721)\n"
     ]
    }
   ],
   "source": [
    "# Generating the dataset\n",
    "dataset = np.hstack((hog_features, labels.reshape(2000, -1)))\n",
    "print('The final shape of the dataset is: {}'.format(dataset.shape))"
   ]
  },
  {
   "cell_type": "code",
   "execution_count": null,
   "metadata": {
    "id": "jEM5xl6gGuKA"
   },
   "outputs": [],
   "source": [
    "# Shuffling dataset\n",
    "np.random.shuffle(dataset)"
   ]
  },
  {
   "cell_type": "markdown",
   "metadata": {
    "id": "ZxNfT0Y_HR47"
   },
   "source": [
    "### Splitting dataset"
   ]
  },
  {
   "cell_type": "code",
   "execution_count": null,
   "metadata": {
    "colab": {
     "base_uri": "https://localhost:8080/"
    },
    "id": "QrBik3EnHCn_",
    "outputId": "bffd04df-f543-4f54-f8ea-b401ec68bd4a"
   },
   "outputs": [
    {
     "name": "stdout",
     "output_type": "stream",
     "text": [
      "The training samples shape are: (1600, 720)\n",
      "The target samples for training are: (1600,)\n",
      "\n",
      "The test samples shape are: (400, 720)\n",
      "The target samples for testing are: (400,)\n"
     ]
    }
   ],
   "source": [
    "# Splitting manually\n",
    "# Percentage of training\n",
    "training_ratio = 0.8\n",
    "training_samples = int(len(hog_features) * training_ratio)\n",
    "# Splitting dataset\n",
    "x_train, y_train = dataset[:training_samples, :-1], dataset[:training_samples, -1].ravel()\n",
    "x_test, y_test = dataset[training_samples:, :-1], dataset[training_samples:, -1].ravel()\n",
    "\n",
    "print('The training samples shape are: {}'.format(x_train.shape))\n",
    "print('The target samples for training are: {}\\n'.format(y_train.shape))\n",
    "print('The test samples shape are: {}'.format(x_test.shape))\n",
    "print('The target samples for testing are: {}'.format(y_test.shape))"
   ]
  },
  {
   "cell_type": "code",
   "execution_count": null,
   "metadata": {
    "colab": {
     "base_uri": "https://localhost:8080/"
    },
    "id": "HKBjBW2RaBSK",
    "outputId": "b2b5e75a-325e-4234-eb47-640f1708d7d0"
   },
   "outputs": [
    {
     "name": "stdout",
     "output_type": "stream",
     "text": [
      "The training samples shape are: (1600, 720)\n",
      "The target samples for training are: (1600,)\n",
      "\n",
      "The test samples shape are: (400, 720)\n",
      "The target samples for testing are: (400,)\n"
     ]
    }
   ],
   "source": [
    "# Splitting with train text split\n",
    "from sklearn.model_selection import train_test_split\n",
    "\n",
    "x_train, x_test, y_train, y_test = train_test_split(hog_features, labels, test_size = 0.2)\n",
    "# Printting\n",
    "print('The training samples shape are: {}'.format(x_train.shape))\n",
    "print('The target samples for training are: {}\\n'.format(y_train.shape))\n",
    "print('The test samples shape are: {}'.format(x_test.shape))\n",
    "print('The target samples for testing are: {}'.format(y_test.shape))"
   ]
  },
  {
   "cell_type": "markdown",
   "metadata": {
    "id": "6VAsENPjJfv8"
   },
   "source": [
    "### Training and validating"
   ]
  },
  {
   "cell_type": "code",
   "execution_count": null,
   "metadata": {
    "id": "RB7GtDmhJgq4"
   },
   "outputs": [],
   "source": [
    "from sklearn.neural_network import MLPClassifier"
   ]
  },
  {
   "cell_type": "code",
   "execution_count": null,
   "metadata": {
    "colab": {
     "base_uri": "https://localhost:8080/"
    },
    "id": "uuYM_SYlJsuo",
    "outputId": "8e50177d-4ff2-4d8e-82b8-2f1c03ff59f7"
   },
   "outputs": [
    {
     "name": "stdout",
     "output_type": "stream",
     "text": [
      "The test accuracy is: 0.695\n"
     ]
    }
   ],
   "source": [
    "# Training\n",
    "mlp = MLPClassifier(hidden_layer_sizes = (256, 128, 64, 32), activation = 'relu',\n",
    "                    solver = 'adam', random_state = 1).fit(x_train, y_train)\n",
    "# Testing\n",
    "y_pred = mlp.predict(x_test)\n",
    "print('The test accuracy is: {}'.format(mlp.score(x_test, y_test)))"
   ]
  },
  {
   "cell_type": "markdown",
   "metadata": {
    "id": "3A6sbPu5cVDX"
   },
   "source": [
    "### Plotting confusion matrix"
   ]
  },
  {
   "cell_type": "code",
   "execution_count": null,
   "metadata": {
    "id": "X-n0KDw8KkzK"
   },
   "outputs": [],
   "source": [
    "from sklearn.metrics import plot_confusion_matrix"
   ]
  },
  {
   "cell_type": "code",
   "execution_count": null,
   "metadata": {
    "colab": {
     "base_uri": "https://localhost:8080/",
     "height": 308
    },
    "id": "9F96pKspKwtT",
    "outputId": "5dbd4184-eefd-4fa7-cd4c-32553bd3505c"
   },
   "outputs": [
    {
     "data": {
      "image/png": "[encoded data removed]",
      "text/plain": [
       "<Figure size 432x288 with 2 Axes>"
      ]
     },
     "metadata": {
      "needs_background": "light",
      "tags": []
     },
     "output_type": "display_data"
    }
   ],
   "source": [
    "mc = plot_confusion_matrix(mlp, x_test, y_test, display_labels = ['perro', 'gato'])\n",
    "mc.figure_.suptitle('Matriz de confusion')\n",
    "plt.show()"
   ]
  },
  {
   "cell_type": "markdown",
   "metadata": {
    "id": "IBXk6hp8cbjW"
   },
   "source": []
  },
  {
   "cell_type": "markdown",
   "metadata": {
    "id": "stziBWABcblo"
   },
   "source": [
    "### Saving the model"
   ]
  },
  {
   "cell_type": "code",
   "execution_count": null,
   "metadata": {
    "id": "KaXKnhtWcecU"
   },
   "outputs": [],
   "source": [
    "import pickle as pkl"
   ]
  },
  {
   "cell_type": "code",
   "execution_count": null,
   "metadata": {
    "id": "sdpLPoBBcgxn"
   },
   "outputs": [],
   "source": [
    "# Saving model\n",
    "pkl.dump(mlp, open('catsdogs.sav', 'wb'))"
   ]
  },
  {
   "cell_type": "code",
   "execution_count": null,
   "metadata": {
    "colab": {
     "base_uri": "https://localhost:8080/"
    },
    "id": "st_1ImVKc2sx",
    "outputId": "0b6389d3-1c74-429a-811a-1d578061995c"
   },
   "outputs": [
    {
     "name": "stdout",
     "output_type": "stream",
     "text": [
      "Listing validation files for dogs: \n",
      "['dog.2049.jpg', 'dog.2108.jpg', 'dog.2164.jpg', 'dog.2103.jpg', 'dog.2208.jpg',\n",
      "'dog.2090.jpg', 'dog.2083.jpg', 'dog.2446.jpg', 'dog.2182.jpg', 'dog.2416.jpg']\n"
     ]
    }
   ],
   "source": [
    "# Printing validation images\n",
    "print('Listing validation files for dogs: \\n{}'.format(os.listdir(dir_val_dog)[:10]))"
   ]
  },
  {
   "cell_type": "markdown",
   "metadata": {
    "id": "yJlA9sFDdrJo"
   },
   "source": [
    "### Validating the model"
   ]
  },
  {
   "cell_type": "code",
   "execution_count": null,
   "metadata": {
    "colab": {
     "base_uri": "https://localhost:8080/"
    },
    "id": "dv6ju3F-dl5b",
    "outputId": "9af04d3d-8f23-4f43-d6cd-b32264ae16db"
   },
   "outputs": [
    {
     "name": "stdout",
     "output_type": "stream",
     "text": [
      "The shape of the histogram is: (1, 720)\n"
     ]
    }
   ],
   "source": [
    "# Path to file\n",
    "valfile = dir_val_dog + '/' + 'dog.2164.jpg'\n",
    "# Doggo label\n",
    "true_label = 0\n",
    "# Processing\n",
    "his = preprocesado(valfile)\n",
    "his = np.array(his).reshape(1, -1)\n",
    "print('The shape of the histogram is: {}'.format(his.shape))"
   ]
  },
  {
   "cell_type": "code",
   "execution_count": null,
   "metadata": {
    "colab": {
     "base_uri": "https://localhost:8080/"
    },
    "id": "wcfvlGzWeMea",
    "outputId": "c64d44eb-55ac-48da-abe7-cc8871aff793"
   },
   "outputs": [
    {
     "name": "stdout",
     "output_type": "stream",
     "text": [
      "[0]\n"
     ]
    }
   ],
   "source": [
    "mlp_stored = pkl.load(open('catsdogs.sav', 'rb'))\n",
    "resultado = mlp_stored.predict(his)\n",
    "print(resultado)"
   ]
  }
 ],
 "metadata": {
  "colab": {
   "collapsed_sections": [],
   "name": "S3L1_ANN.ipynb",
   "provenance": []
  },
  "kernelspec": {
   "display_name": "Python 3",
   "language": "python",
   "name": "python3"
  },
  "language_info": {
   "codemirror_mode": {
    "name": "ipython",
    "version": 3
   },
   "file_extension": ".py",
   "mimetype": "text/x-python",
   "name": "python",
   "nbconvert_exporter": "python",
   "pygments_lexer": "ipython3",
   "version": "3.8.5"
  }
 },
 "nbformat": 4,
 "nbformat_minor": 1
}
